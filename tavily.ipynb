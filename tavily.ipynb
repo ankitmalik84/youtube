{
 "cells": [
  {
   "cell_type": "code",
   "execution_count": 26,
   "metadata": {},
   "outputs": [],
   "source": [
    "import os\n",
    "from dotenv import load_dotenv\n",
    "from tavily import TavilyClient"
   ]
  },
  {
   "cell_type": "code",
   "execution_count": 27,
   "metadata": {},
   "outputs": [
    {
     "name": "stdout",
     "output_type": "stream",
     "text": [
      "{'query': 'Who is Modi?', 'follow_up_questions': None, 'answer': None, 'images': [], 'results': [{'url': 'https://en.wikipedia.org/wiki/Narendra_Modi', 'title': 'Narendra Modi - Wikipedia', 'content': 'Narendra Damodardas Modi (born 17 September 1950) is an Indian politician who has served as the prime minister of India since 2014. Modi was the chief minister', 'score': 0.8763069, 'raw_content': None}, {'url': 'https://en.wikipedia.org/wiki/Prime_Minister_of_India', 'title': 'Prime Minister of India - Wikipedia', 'content': 'Modi is the current prime minister of India, serving since 26 May 2014 and the first non-Congress leader to win three consecutive general elections and secure a', 'score': 0.8684817, 'raw_content': None}, {'url': 'https://www.britannica.com/biography/Narendra-Modi', 'title': 'Narendra Modi | Biography, Career, & Facts - Britannica', 'content': '**Narendra Modi** (born September 17, 1950, Vadnagar, India) is an Indian politician and government official who rose to become a senior leader of the Bharatiya Janata Party (BJP). Although the BJP failed to secure a majority on its own in the 2024 Lok Sabha elections, the BJP-led NDA alliance won 293 of the 543 seats in the Lok Sabha, paving the way for Modi to become the country’s prime minister for a third consecutive term. In 1990 Modi was one of the BJP members who participated in a coalition government in the state, and he helped the BJP achieve success in the 1995 state legislative assembly elections that in March allowed the party to form the first-ever BJP-controlled government in India.', 'score': 0.82186085, 'raw_content': None}, {'url': 'https://www.pmindia.gov.in/en/personal_life_story/personal-life-story/', 'title': 'Personal Life Story | Prime Minister of India', 'content': 'Mr. Modi is the third child born to Damodardas Modi and Hiraba Modi. Mr. Modi comes from a family of humble origins and modest means. The entire family', 'score': 0.6554468, 'raw_content': None}, {'url': 'https://www.pmindia.gov.in/en/pms-profile/', 'title': 'Know the PM | Prime Minister of India', 'content': 'Know the PM | Prime Minister of India Image 9: PM IndiaShri Narendra Modi was sworn-in as India’s Prime Minister for the third time on 9th June 2024, following another decisive victory in the 2024 Parliamentary elections. The first ever Prime Minister to be born after Independence, Shri Modi has previously served as the Prime Minister of India from 2014 to 2019, and from 2019 to 2024. Leading international agencies have noted that under the leadership of PM Narendra Modi, India has been eliminating poverty at record pace. PM Modi launched the ‘Make in India’ initiative to turn India into an international manufacturing powerhouse. Image 10 ##### Know the PM Dynamic, dedicated and determined, Narendra Modi arrives as a ray of hope in the lives of a billion Indians.', 'score': 0.6307082, 'raw_content': None}], 'response_time': 1.51}\n"
     ]
    }
   ],
   "source": [
    "load_dotenv()\n",
    "tavily_client = TavilyClient(os.getenv(\"TAVILY_API_KEY\"))\n",
    "\n",
    "response = tavily_client.search(\"Who is Modi?\")\n",
    "\n",
    "print(response)\n"
   ]
  },
  {
   "cell_type": "code",
   "execution_count": 29,
   "metadata": {},
   "outputs": [
    {
     "name": "stdout",
     "output_type": "stream",
     "text": [
      "[{'url': 'https://en.wikipedia.org/wiki/Narendra_Modi', 'title': 'Narendra Modi - Wikipedia', 'content': 'Narendra Damodardas Modi (born 17 September 1950) is an Indian politician who has served as the prime minister of India since 2014. Modi was the chief minister', 'score': 0.8763069, 'raw_content': None}, {'url': 'https://en.wikipedia.org/wiki/Prime_Minister_of_India', 'title': 'Prime Minister of India - Wikipedia', 'content': 'Modi is the current prime minister of India, serving since 26 May 2014 and the first non-Congress leader to win three consecutive general elections and secure a', 'score': 0.8684817, 'raw_content': None}, {'url': 'https://www.britannica.com/biography/Narendra-Modi', 'title': 'Narendra Modi | Biography, Career, & Facts - Britannica', 'content': '**Narendra Modi** (born September 17, 1950, Vadnagar, India) is an Indian politician and government official who rose to become a senior leader of the Bharatiya Janata Party (BJP). Although the BJP failed to secure a majority on its own in the 2024 Lok Sabha elections, the BJP-led NDA alliance won 293 of the 543 seats in the Lok Sabha, paving the way for Modi to become the country’s prime minister for a third consecutive term. In 1990 Modi was one of the BJP members who participated in a coalition government in the state, and he helped the BJP achieve success in the 1995 state legislative assembly elections that in March allowed the party to form the first-ever BJP-controlled government in India.', 'score': 0.82186085, 'raw_content': None}, {'url': 'https://www.pmindia.gov.in/en/personal_life_story/personal-life-story/', 'title': 'Personal Life Story | Prime Minister of India', 'content': 'Mr. Modi is the third child born to Damodardas Modi and Hiraba Modi. Mr. Modi comes from a family of humble origins and modest means. The entire family', 'score': 0.6554468, 'raw_content': None}, {'url': 'https://www.pmindia.gov.in/en/pms-profile/', 'title': 'Know the PM | Prime Minister of India', 'content': 'Know the PM | Prime Minister of India Image 9: PM IndiaShri Narendra Modi was sworn-in as India’s Prime Minister for the third time on 9th June 2024, following another decisive victory in the 2024 Parliamentary elections. The first ever Prime Minister to be born after Independence, Shri Modi has previously served as the Prime Minister of India from 2014 to 2019, and from 2019 to 2024. Leading international agencies have noted that under the leadership of PM Narendra Modi, India has been eliminating poverty at record pace. PM Modi launched the ‘Make in India’ initiative to turn India into an international manufacturing powerhouse. Image 10 ##### Know the PM Dynamic, dedicated and determined, Narendra Modi arrives as a ray of hope in the lives of a billion Indians.', 'score': 0.6307082, 'raw_content': None}]\n",
      "Narendra Modi - Wikipedia\n",
      "Narendra Damodardas Modi (born 17 September 1950) is an Indian politician who has served as the prime minister of India since 2014. Modi was the chief minister\n",
      "Prime Minister of India - Wikipedia\n",
      "Modi is the current prime minister of India, serving since 26 May 2014 and the first non-Congress leader to win three consecutive general elections and secure a\n",
      "Narendra Modi | Biography, Career, & Facts - Britannica\n",
      "**Narendra Modi** (born September 17, 1950, Vadnagar, India) is an Indian politician and government official who rose to become a senior leader of the Bharatiya Janata Party (BJP). Although the BJP failed to secure a majority on its own in the 2024 Lok Sabha elections, the BJP-led NDA alliance won 293 of the 543 seats in the Lok Sabha, paving the way for Modi to become the country’s prime minister for a third consecutive term. In 1990 Modi was one of the BJP members who participated in a coalition government in the state, and he helped the BJP achieve success in the 1995 state legislative assembly elections that in March allowed the party to form the first-ever BJP-controlled government in India.\n",
      "Personal Life Story | Prime Minister of India\n",
      "Mr. Modi is the third child born to Damodardas Modi and Hiraba Modi. Mr. Modi comes from a family of humble origins and modest means. The entire family\n",
      "Know the PM | Prime Minister of India\n",
      "Know the PM | Prime Minister of India Image 9: PM IndiaShri Narendra Modi was sworn-in as India’s Prime Minister for the third time on 9th June 2024, following another decisive victory in the 2024 Parliamentary elections. The first ever Prime Minister to be born after Independence, Shri Modi has previously served as the Prime Minister of India from 2014 to 2019, and from 2019 to 2024. Leading international agencies have noted that under the leadership of PM Narendra Modi, India has been eliminating poverty at record pace. PM Modi launched the ‘Make in India’ initiative to turn India into an international manufacturing powerhouse. Image 10 ##### Know the PM Dynamic, dedicated and determined, Narendra Modi arrives as a ray of hope in the lives of a billion Indians.\n"
     ]
    }
   ],
   "source": [
    "print(response.get(\"results\"))\n",
    "for i, result in enumerate(response.get(\"results\")):\n",
    "    print(result.get(\"title\"))\n",
    "    print(result.get(\"content\"))"
   ]
  },
  {
   "cell_type": "code",
   "execution_count": 32,
   "metadata": {},
   "outputs": [],
   "source": [
    "from openai import OpenAI"
   ]
  },
  {
   "cell_type": "code",
   "execution_count": 33,
   "metadata": {},
   "outputs": [],
   "source": [
    "client = OpenAI(\n",
    "  base_url=\"https://openrouter.ai/api/v1\",\n",
    "  api_key=os.getenv(\"OPEN_ROUTER_KEY\"),\n",
    ")"
   ]
  },
  {
   "cell_type": "code",
   "execution_count": 34,
   "metadata": {},
   "outputs": [],
   "source": [
    "system_prompt = \"You are an assistant that analyzes the contents of a website \\\n",
    "and provides a short summary, ignoring text that might be navigation related. \\\n",
    "Respond in markdown.\""
   ]
  },
  {
   "cell_type": "code",
   "execution_count": 42,
   "metadata": {},
   "outputs": [],
   "source": [
    "def user_prompt_for(website):\n",
    "    user_prompt = f\"You are looking at a website titled {website.get('title')}\"\n",
    "    user_prompt += \"\\nThe contents of this website is as follows; \\\n",
    "please provide a short summary of this website in markdown. \\\n",
    "If it includes news or announcements, then summarize these too.\\n\\n\"\n",
    "    user_prompt += website.get(\"content\")\n",
    "    return user_prompt"
   ]
  },
  {
   "cell_type": "code",
   "execution_count": 43,
   "metadata": {},
   "outputs": [
    {
     "name": "stdout",
     "output_type": "stream",
     "text": [
      "You are looking at a website titled Know the PM | Prime Minister of India\n",
      "The contents of this website is as follows; please provide a short summary of this website in markdown. If it includes news or announcements, then summarize these too.\n",
      "\n",
      "Know the PM | Prime Minister of India Image 9: PM IndiaShri Narendra Modi was sworn-in as India’s Prime Minister for the third time on 9th June 2024, following another decisive victory in the 2024 Parliamentary elections. The first ever Prime Minister to be born after Independence, Shri Modi has previously served as the Prime Minister of India from 2014 to 2019, and from 2019 to 2024. Leading international agencies have noted that under the leadership of PM Narendra Modi, India has been eliminating poverty at record pace. PM Modi launched the ‘Make in India’ initiative to turn India into an international manufacturing powerhouse. Image 10 ##### Know the PM Dynamic, dedicated and determined, Narendra Modi arrives as a ray of hope in the lives of a billion Indians.\n"
     ]
    }
   ],
   "source": [
    "print(user_prompt_for(result))"
   ]
  },
  {
   "cell_type": "code",
   "execution_count": 45,
   "metadata": {},
   "outputs": [
    {
     "name": "stdout",
     "output_type": "stream",
     "text": [
      "[{'role': 'system', 'content': 'You are an assistant that analyzes the contents of a website and provides a short summary, ignoring text that might be navigation related. Respond in markdown.'}, {'role': 'user', 'content': 'You are looking at a website titled Know the PM | Prime Minister of India\\nThe contents of this website is as follows; please provide a short summary of this website in markdown. If it includes news or announcements, then summarize these too.\\n\\nKnow the PM | Prime Minister of India Image 9: PM IndiaShri Narendra Modi was sworn-in as India’s Prime Minister for the third time on 9th June 2024, following another decisive victory in the 2024 Parliamentary elections. The first ever Prime Minister to be born after Independence, Shri Modi has previously served as the Prime Minister of India from 2014 to 2019, and from 2019 to 2024. Leading international agencies have noted that under the leadership of PM Narendra Modi, India has been eliminating poverty at record pace. PM Modi launched the ‘Make in India’ initiative to turn India into an international manufacturing powerhouse. Image 10 ##### Know the PM Dynamic, dedicated and determined, Narendra Modi arrives as a ray of hope in the lives of a billion Indians.'}]\n"
     ]
    }
   ],
   "source": [
    "message = [\n",
    "    {\"role\": \"system\", \"content\": system_prompt},\n",
    "    {\"role\": \"user\", \"content\": user_prompt_for(result)}\n",
    "]\n",
    "print(message)"
   ]
  },
  {
   "cell_type": "code",
   "execution_count": 49,
   "metadata": {},
   "outputs": [],
   "source": [
    "completion = client.chat.completions.create(\n",
    "  extra_headers={\n",
    "    \"HTTP-Referer\": \"<YOUR_SITE_URL>\", # Optional. Site URL for rankings on openrouter.ai.\n",
    "    \"X-Title\": \"<YOUR_SITE_NAME>\", # Optional. Site title for rankings on openrouter.ai.\n",
    "  },\n",
    "  extra_body={},\n",
    "  model=\"moonshotai/kimi-k2:free\",\n",
    "  stream=False,\n",
    "  messages=message\n",
    ")"
   ]
  },
  {
   "cell_type": "code",
   "execution_count": 50,
   "metadata": {},
   "outputs": [
    {
     "name": "stdout",
     "output_type": "stream",
     "text": [
      "## Prime Minister of India – “Know the PM” Page\n",
      "\n",
      "- **Leader**  \n",
      "  Shri Narendra Modi was sworn-in as Prime Minister for a **historic third consecutive term** on 9 June 2024, following a resounding 2024 Parliamentary election victory.\n",
      "\n",
      "- **Historic First**  \n",
      "  The **first ever Indian Prime Minister born after Independence**.\n",
      "\n",
      "- **Track Record (2014 – 2024)**  \n",
      "  Credited by leading global agencies with **record poverty reduction** and transformation of India into an emerging **manufacturing hub** through the **‘Make in India’** initiative.\n",
      "\n",
      "- **Public Persona**  \n",
      "  Profiled on the site as **dynamic, dedicated, and determined**—positioned as “a ray of hope in the lives of a billion Indians.”\n"
     ]
    }
   ],
   "source": [
    "print(completion.choices[0].message.content)"
   ]
  },
  {
   "cell_type": "code",
   "execution_count": null,
   "metadata": {},
   "outputs": [],
   "source": []
  }
 ],
 "metadata": {
  "kernelspec": {
   "display_name": "Python 3",
   "language": "python",
   "name": "python3"
  },
  "language_info": {
   "codemirror_mode": {
    "name": "ipython",
    "version": 3
   },
   "file_extension": ".py",
   "mimetype": "text/x-python",
   "name": "python",
   "nbconvert_exporter": "python",
   "pygments_lexer": "ipython3",
   "version": "3.12.11"
  }
 },
 "nbformat": 4,
 "nbformat_minor": 2
}
